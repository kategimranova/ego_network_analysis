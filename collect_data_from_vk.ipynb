{
  "nbformat": 4,
  "nbformat_minor": 0,
  "metadata": {
    "colab": {
      "name": "collect_data_from_vk.ipynb",
      "provenance": [],
      "collapsed_sections": [],
      "include_colab_link": true
    },
    "kernelspec": {
      "name": "python3",
      "display_name": "Python 3"
    },
    "language_info": {
      "name": "python"
    }
  },
  "cells": [
    {
      "cell_type": "markdown",
      "metadata": {
        "id": "view-in-github",
        "colab_type": "text"
      },
      "source": [
        "<a href=\"https://colab.research.google.com/github/kategimranova/ego_network_analysis/blob/main/collect_data_from_vk.ipynb\" target=\"_parent\"><img src=\"https://colab.research.google.com/assets/colab-badge.svg\" alt=\"Open In Colab\"/></a>"
      ]
    },
    {
      "cell_type": "code",
      "source": [
        "!pip install transliterate"
      ],
      "metadata": {
        "id": "teT5VDWSMG5Q"
      },
      "execution_count": null,
      "outputs": []
    },
    {
      "cell_type": "code",
      "execution_count": null,
      "metadata": {
        "id": "XoozioZ19gb-"
      },
      "outputs": [],
      "source": [
        "import requests\n",
        "import json\n",
        "from transliterate import translit\n",
        "import itertools"
      ]
    },
    {
      "cell_type": "code",
      "source": [
        "'''Function for getting list of friends of a person with a given user_id. In name_info == True, the function will return the list of friends \n",
        "with some additional data like name\n",
        "More info about getting access token: https://dev.vk.com/api/access-token/getting-started\n",
        "'''\n",
        "def get_friends_ids(user_id, my_id,access_token, name_info=False):\n",
        "  if name_info:\n",
        "    friends_url = 'https://api.vk.com/method/friends.get?user_id={}&fields=nickname&v=5.131&access_token={}'.format(user_id, access_token)\n",
        "  else:\n",
        "    friends_url = 'https://api.vk.com/method/friends.get?user_id={}&v=5.131&access_token={}'.format(user_id, access_token)\n",
        "  response = requests.get(friends_url)\n",
        "  assert response.status_code == 200, \"No response recieved\"\n",
        "  if 'This profile is private' in response.content.decode(\"utf-8\"):\n",
        "    return []\n",
        "  json_response = json.loads(response.content)\n",
        "  friends_list = json_response['response']['items'].copy()\n",
        "  if user_id != my_id: #Deleting me from friends' list (for correct identifying relationship between friends)\n",
        "    if my_id in friends_list:\n",
        "      friends_ids = [friend for friend in friends_list if friend!=my_id]\n",
        "    else:\n",
        "      friends_ids = friends_list\n",
        "  else:\n",
        "    friends_ids = friends_list\n",
        "  return friends_ids"
      ],
      "metadata": {
        "id": "6iroH6PH9tOA"
      },
      "execution_count": null,
      "outputs": []
    },
    {
      "cell_type": "code",
      "source": [
        "''' Function for getting dict with name info from friends_ids (with name_info == True)'''\n",
        "def get_dict_with_names(friends_list):\n",
        "  result = {}\n",
        "  for friend in friends_list:\n",
        "    result[friend['id']] = friend['first_name'] + \" \" + friend['last_name']\n",
        "  \n",
        "  return result"
      ],
      "metadata": {
        "id": "pzclQdeZIeD0"
      },
      "execution_count": null,
      "outputs": []
    },
    {
      "cell_type": "code",
      "source": [
        "'''Function for identifying whether two users are friends'''\n",
        "def are_friends(user1, user2, friends_dict):\n",
        "  friends_of_user1 = friends_dict[user1]\n",
        "  friends_of_user2 = friends_dict[user2]\n",
        "  return user1 in friends_of_user2 or user2 in friends_of_user1 #рассматриваем для закрытых аккаунтов"
      ],
      "metadata": {
        "id": "n9_Ab3R39wT_"
      },
      "execution_count": null,
      "outputs": []
    },
    {
      "cell_type": "code",
      "source": [
        "with open('config.json', 'r') as config_file:\n",
        "  config = json.load(config_file)"
      ],
      "metadata": {
        "id": "axt7tOvhQUW_"
      },
      "execution_count": null,
      "outputs": []
    },
    {
      "cell_type": "code",
      "source": [
        "access_token = config['access_token']\n",
        "my_id = config['my_id']"
      ],
      "metadata": {
        "id": "CyH012eSKpGX"
      },
      "execution_count": null,
      "outputs": []
    },
    {
      "cell_type": "code",
      "source": [
        "my_friends_ids = get_friends_ids(my_id,my_id, access_token, name_info=False)\n",
        "my_friends_name_info = get_friends_ids(my_id,my_id, access_token, name_info=True)\n",
        "my_friends_names_rus = get_dict_with_names(my_friends_name_info)"
      ],
      "metadata": {
        "id": "XwurIHN1KI6l"
      },
      "execution_count": null,
      "outputs": []
    },
    {
      "cell_type": "code",
      "source": [
        "'Names of friends written on English language'\n",
        "my_friends_names_eng = {}\n",
        "for id, name in my_friends_names_rus.items():\n",
        "  my_friends_names_eng[id] = translit(name, language_code='ru', reversed=True)"
      ],
      "metadata": {
        "id": "wtkPFeZyLmIn"
      },
      "execution_count": null,
      "outputs": []
    },
    {
      "cell_type": "code",
      "source": [
        "list(my_friends_names_eng.values())[:15]"
      ],
      "metadata": {
        "id": "hckEjnKxMsVH"
      },
      "execution_count": null,
      "outputs": []
    },
    {
      "cell_type": "code",
      "source": [
        "friends_dict = {}\n",
        "for friend in my_friends_ids:\n",
        "  if friend not in friends_dict:\n",
        "    friends_dict[friend] = get_friends_ids(friend,my_id, access_token)"
      ],
      "metadata": {
        "id": "02WYTlrsORaf"
      },
      "execution_count": null,
      "outputs": []
    },
    {
      "cell_type": "code",
      "source": [
        "#generating all possible pairs of friends\n",
        "friends_pairs = list(itertools.combinations(my_friends_ids,2))"
      ],
      "metadata": {
        "id": "c2WQODCSOki_"
      },
      "execution_count": null,
      "outputs": []
    },
    {
      "cell_type": "code",
      "source": [
        "#getting edges of ego-graph\n",
        "graph_edges = []\n",
        "for user1, user2 in friends_pairs:\n",
        "  if are_friends(user1, user2, friends_dict):\n",
        "    graph_edges.append((user1, user2))"
      ],
      "metadata": {
        "id": "HKxTn4EQPOPI"
      },
      "execution_count": null,
      "outputs": []
    },
    {
      "cell_type": "code",
      "source": [
        "def write_data_in_txt_file(data, filename):\n",
        "  with open(filename, 'w') as f:\n",
        "    f.write(str(data))\n",
        "  f.close()"
      ],
      "metadata": {
        "id": "b53wIvw6MzyF"
      },
      "execution_count": null,
      "outputs": []
    },
    {
      "cell_type": "code",
      "source": [
        "write_data_in_txt_file(graph_edges, 'edges.txt')"
      ],
      "metadata": {
        "id": "VkdTxc63NPOY"
      },
      "execution_count": null,
      "outputs": []
    },
    {
      "cell_type": "code",
      "source": [
        "write_data_in_txt_file(my_friends_ids, 'my_friends_ids.txt')"
      ],
      "metadata": {
        "id": "vy7EAqE8PeAz"
      },
      "execution_count": null,
      "outputs": []
    },
    {
      "cell_type": "code",
      "source": [
        "write_data_in_txt_file(friends_dict, 'friends_dict.txt')"
      ],
      "metadata": {
        "id": "e_kW8CLoP6ym"
      },
      "execution_count": null,
      "outputs": []
    },
    {
      "cell_type": "code",
      "source": [
        "write_data_in_txt_file(my_friends_names_eng, 'my_friends_names.txt')"
      ],
      "metadata": {
        "id": "xZK8pEUjQCn7"
      },
      "execution_count": null,
      "outputs": []
    }
  ]
}